{
  "nbformat": 4,
  "nbformat_minor": 0,
  "metadata": {
    "kernelspec": {
      "name": "python3",
      "display_name": "Python 3"
    },
    "language_info": {
      "codemirror_mode": {
        "name": "ipython",
        "version": 3
      },
      "file_extension": ".py",
      "mimetype": "text/x-python",
      "name": "python",
      "nbconvert_exporter": "python",
      "pygments_lexer": "ipython3",
      "version": "3.7.5"
    },
    "colab": {
      "name": "Image_Classification.ipynb",
      "provenance": [],
      "collapsed_sections": []
    },
    "accelerator": "GPU"
  },
  "cells": [
    {
      "cell_type": "code",
      "metadata": {
        "id": "R9SlKo-E3PEo",
        "colab_type": "code",
        "colab": {}
      },
      "source": [
        "import tensorflow as tf\n",
        "#import matplotlib as plt\n",
        "import keras_preprocessing\n",
        "from keras_preprocessing import image\n",
        "from keras_preprocessing.image import ImageDataGenerator\n",
        "import numpy as np\n",
        "import os\n",
        "import PIL\n",
        "from PIL import Image\n",
        "import matplotlib.pyplot as plt\n"
      ],
      "execution_count": 0,
      "outputs": []
    },
    {
      "cell_type": "code",
      "metadata": {
        "id": "OSCr09Ja3PEs",
        "colab_type": "code",
        "outputId": "2be6477d-07ed-4e50-a943-6bc1e57385d1",
        "colab": {
          "base_uri": "https://localhost:8080/",
          "height": 34
        }
      },
      "source": [
        "\"\"\"find directories for the data, resize the data\"\"\"\n",
        "\n",
        "TRAINING_DIR =  '/content/flower_photos/'\n",
        "\n",
        "VALIDATION_DIR = '/content/flower_test/'\n",
        "\n",
        "flowers = ['roses', 'daisy', 'tulips', 'sunflowers', 'dandelion']\n",
        "\n",
        "for f in flowers:\n",
        "    flowerDir = TRAINING_DIR + f + '/'\n",
        "    flowerFiles = os.listdir(os.path.join(flowerDir))\n",
        "    \n",
        "    flower_val = VALIDATION_DIR + f + '/'\n",
        "    val_files = os.listdir(os.path.join(flower_val))\n",
        "    \n",
        "    for pic in flowerFiles:\n",
        "        if (pic != '.DS_Store'):\n",
        "            img = Image.open(flowerDir + pic)\n",
        "            img.resize((150,150))\n",
        "            img.close()\n",
        "        \n",
        "    for pic in val_files:\n",
        "        if (pic != '.DS_Store'):\n",
        "            img = Image.open(flower_val + pic)\n",
        "            img.resize((150,150))\n",
        "            img.close()\n",
        "            \n",
        "\n",
        "print(\"image preparation complete\")\n",
        "        \n",
        "    \n"
      ],
      "execution_count": 4,
      "outputs": [
        {
          "output_type": "stream",
          "text": [
            "image preparation complete\n"
          ],
          "name": "stdout"
        }
      ]
    },
    {
      "cell_type": "code",
      "metadata": {
        "id": "jH6zXG283PEv",
        "colab_type": "code",
        "outputId": "e7b82b73-b166-4583-c821-3a8a4d1aba0c",
        "colab": {
          "base_uri": "https://localhost:8080/",
          "height": 51
        }
      },
      "source": [
        "\"\"\"Create and prepare training and validation sets\"\"\"\n",
        "\n",
        "\n",
        "training_datagen = ImageDataGenerator(\n",
        "      rescale = 1./255,\n",
        "\t  rotation_range=40,\n",
        "      width_shift_range=0.2,\n",
        "      height_shift_range=0.2,\n",
        "      shear_range=0.2,\n",
        "      zoom_range=0.2,\n",
        "      horizontal_flip=True,\n",
        "      fill_mode='nearest')\n",
        "\n",
        "train_generator = training_datagen.flow_from_directory(\n",
        "\tTRAINING_DIR,\n",
        "\ttarget_size=(150,150),\n",
        "\tclass_mode='categorical',\n",
        "  classes = flowers)\n",
        "               \n",
        "validation_datagen = ImageDataGenerator(rescale = 1./255)\n",
        "\n",
        "validation_generator = validation_datagen.flow_from_directory(\n",
        "\tVALIDATION_DIR,\n",
        "\ttarget_size=(150,150),\n",
        "\tclass_mode='categorical',\n",
        "  classes = flowers)\n",
        "\n",
        "\n",
        "    \n",
        "    \n",
        "    \n",
        "    "
      ],
      "execution_count": 8,
      "outputs": [
        {
          "output_type": "stream",
          "text": [
            "Found 3335 images belonging to 5 classes.\n",
            "Found 120 images belonging to 5 classes.\n"
          ],
          "name": "stdout"
        }
      ]
    },
    {
      "cell_type": "code",
      "metadata": {
        "id": "HOtn7mrK3PEw",
        "colab_type": "code",
        "outputId": "6a2e7f6f-b33e-4f19-fe3b-4e108811c534",
        "colab": {
          "base_uri": "https://localhost:8080/",
          "height": 1000
        }
      },
      "source": [
        "model = tf.keras.models.Sequential([\n",
        "    tf.keras.layers.Conv2D(64, (3,3), activation = 'relu', input_shape= (150, 150, 3)),\n",
        "    tf.keras.layers.MaxPooling2D(2, 2),\n",
        "    # The second convolution\n",
        "    tf.keras.layers.Conv2D(64, (3,3), activation='relu'),\n",
        "    tf.keras.layers.MaxPooling2D(2, 2),\n",
        "    # The third convolution\n",
        "    tf.keras.layers.Conv2D(128, (3,3), activation='relu'),\n",
        "    tf.keras.layers.MaxPooling2D(2, 2),\n",
        "    # The fourth convolution\n",
        "    tf.keras.layers.Conv2D(128, (3,3), activation='relu'),\n",
        "    tf.keras.layers.MaxPooling2D(2, 2),\n",
        "    # Flatten the results to feed into a DNN\n",
        "    tf.keras.layers.Flatten(),\n",
        "    tf.keras.layers.Dropout(0.5),\n",
        "    # 512 neuron hidden layer\n",
        "    tf.keras.layers.Dense(512, activation='relu'),\n",
        "    tf.keras.layers.Flatten(),\n",
        "    tf.keras.layers.Dense(5, activation='softmax')])\n",
        "\n",
        "model.summary()\n",
        "model.compile(loss = 'categorical_crossentropy', optimizer = 'rmsprop', metrics = ['accuracy'])\n",
        "\n",
        "history = model.fit_generator(train_generator, epochs=25, validation_data = validation_generator, verbose = 1)\n",
        "\n",
        "model.save(\"flower_types.h5\")\n",
        "print('model saved')\n"
      ],
      "execution_count": 9,
      "outputs": [
        {
          "output_type": "stream",
          "text": [
            "WARNING:tensorflow:From /usr/local/lib/python3.6/dist-packages/tensorflow_core/python/ops/resource_variable_ops.py:1630: calling BaseResourceVariable.__init__ (from tensorflow.python.ops.resource_variable_ops) with constraint is deprecated and will be removed in a future version.\n",
            "Instructions for updating:\n",
            "If using Keras pass *_constraint arguments to layers.\n",
            "Model: \"sequential\"\n",
            "_________________________________________________________________\n",
            "Layer (type)                 Output Shape              Param #   \n",
            "=================================================================\n",
            "conv2d (Conv2D)              (None, 148, 148, 64)      1792      \n",
            "_________________________________________________________________\n",
            "max_pooling2d (MaxPooling2D) (None, 74, 74, 64)        0         \n",
            "_________________________________________________________________\n",
            "conv2d_1 (Conv2D)            (None, 72, 72, 64)        36928     \n",
            "_________________________________________________________________\n",
            "max_pooling2d_1 (MaxPooling2 (None, 36, 36, 64)        0         \n",
            "_________________________________________________________________\n",
            "conv2d_2 (Conv2D)            (None, 34, 34, 128)       73856     \n",
            "_________________________________________________________________\n",
            "max_pooling2d_2 (MaxPooling2 (None, 17, 17, 128)       0         \n",
            "_________________________________________________________________\n",
            "conv2d_3 (Conv2D)            (None, 15, 15, 128)       147584    \n",
            "_________________________________________________________________\n",
            "max_pooling2d_3 (MaxPooling2 (None, 7, 7, 128)         0         \n",
            "_________________________________________________________________\n",
            "flatten (Flatten)            (None, 6272)              0         \n",
            "_________________________________________________________________\n",
            "dropout (Dropout)            (None, 6272)              0         \n",
            "_________________________________________________________________\n",
            "dense (Dense)                (None, 512)               3211776   \n",
            "_________________________________________________________________\n",
            "flatten_1 (Flatten)          (None, 512)               0         \n",
            "_________________________________________________________________\n",
            "dense_1 (Dense)              (None, 5)                 2565      \n",
            "=================================================================\n",
            "Total params: 3,474,501\n",
            "Trainable params: 3,474,501\n",
            "Non-trainable params: 0\n",
            "_________________________________________________________________\n",
            "Epoch 1/25\n",
            "104/105 [============================>.] - ETA: 0s - loss: 1.4015 - acc: 0.4030Epoch 1/25\n",
            "105/105 [==============================] - 29s 272ms/step - loss: 1.3990 - acc: 0.4045 - val_loss: 1.3286 - val_acc: 0.5417\n",
            "Epoch 2/25\n",
            "104/105 [============================>.] - ETA: 0s - loss: 1.1568 - acc: 0.5289Epoch 1/25\n",
            "105/105 [==============================] - 26s 248ms/step - loss: 1.1570 - acc: 0.5277 - val_loss: 0.9438 - val_acc: 0.6250\n",
            "Epoch 3/25\n",
            "104/105 [============================>.] - ETA: 0s - loss: 1.0171 - acc: 0.5985Epoch 1/25\n",
            "105/105 [==============================] - 26s 249ms/step - loss: 1.0133 - acc: 0.6006 - val_loss: 0.9053 - val_acc: 0.6083\n",
            "Epoch 4/25\n",
            "104/105 [============================>.] - ETA: 0s - loss: 0.9642 - acc: 0.6346Epoch 1/25\n",
            "105/105 [==============================] - 26s 248ms/step - loss: 0.9645 - acc: 0.6348 - val_loss: 0.7949 - val_acc: 0.7000\n",
            "Epoch 5/25\n",
            "104/105 [============================>.] - ETA: 0s - loss: 0.8974 - acc: 0.6527Epoch 1/25\n",
            "105/105 [==============================] - 26s 251ms/step - loss: 0.9002 - acc: 0.6522 - val_loss: 1.0834 - val_acc: 0.6167\n",
            "Epoch 6/25\n",
            "104/105 [============================>.] - ETA: 0s - loss: 0.8580 - acc: 0.6776Epoch 1/25\n",
            "105/105 [==============================] - 26s 249ms/step - loss: 0.8570 - acc: 0.6771 - val_loss: 0.9021 - val_acc: 0.7000\n",
            "Epoch 7/25\n",
            "104/105 [============================>.] - ETA: 0s - loss: 0.8501 - acc: 0.6748Epoch 1/25\n",
            "105/105 [==============================] - 26s 247ms/step - loss: 0.8507 - acc: 0.6747 - val_loss: 0.7114 - val_acc: 0.7333\n",
            "Epoch 8/25\n",
            "104/105 [============================>.] - ETA: 0s - loss: 0.8189 - acc: 0.6873Epoch 1/25\n",
            "105/105 [==============================] - 26s 246ms/step - loss: 0.8203 - acc: 0.6876 - val_loss: 0.7390 - val_acc: 0.7667\n",
            "Epoch 9/25\n",
            "104/105 [============================>.] - ETA: 0s - loss: 0.8020 - acc: 0.6933Epoch 1/25\n",
            "105/105 [==============================] - 26s 247ms/step - loss: 0.8025 - acc: 0.6939 - val_loss: 0.6342 - val_acc: 0.7583\n",
            "Epoch 10/25\n",
            "104/105 [============================>.] - ETA: 0s - loss: 0.7993 - acc: 0.6897Epoch 1/25\n",
            "105/105 [==============================] - 26s 248ms/step - loss: 0.7998 - acc: 0.6894 - val_loss: 1.0609 - val_acc: 0.6750\n",
            "Epoch 11/25\n",
            "104/105 [============================>.] - ETA: 0s - loss: 0.7792 - acc: 0.7103Epoch 1/25\n",
            "105/105 [==============================] - 26s 248ms/step - loss: 0.7791 - acc: 0.7103 - val_loss: 0.6694 - val_acc: 0.8083\n",
            "Epoch 12/25\n",
            "104/105 [============================>.] - ETA: 0s - loss: 0.7676 - acc: 0.7084Epoch 1/25\n",
            "105/105 [==============================] - 26s 248ms/step - loss: 0.7708 - acc: 0.7079 - val_loss: 0.6459 - val_acc: 0.7583\n",
            "Epoch 13/25\n",
            "104/105 [============================>.] - ETA: 0s - loss: 0.7514 - acc: 0.7124Epoch 1/25\n",
            "105/105 [==============================] - 26s 247ms/step - loss: 0.7524 - acc: 0.7124 - val_loss: 0.7461 - val_acc: 0.7417\n",
            "Epoch 14/25\n",
            "104/105 [============================>.] - ETA: 0s - loss: 0.7493 - acc: 0.7172Epoch 1/25\n",
            "105/105 [==============================] - 26s 248ms/step - loss: 0.7486 - acc: 0.7172 - val_loss: 0.6392 - val_acc: 0.7833\n",
            "Epoch 15/25\n",
            "104/105 [============================>.] - ETA: 0s - loss: 0.7103 - acc: 0.7296Epoch 1/25\n",
            "105/105 [==============================] - 26s 245ms/step - loss: 0.7108 - acc: 0.7301 - val_loss: 0.7101 - val_acc: 0.7333\n",
            "Epoch 16/25\n",
            "104/105 [============================>.] - ETA: 0s - loss: 0.7039 - acc: 0.7354Epoch 1/25\n",
            "105/105 [==============================] - 26s 249ms/step - loss: 0.7065 - acc: 0.7355 - val_loss: 0.7643 - val_acc: 0.7833\n",
            "Epoch 17/25\n",
            "104/105 [============================>.] - ETA: 0s - loss: 0.7206 - acc: 0.7336Epoch 1/25\n",
            "105/105 [==============================] - 26s 249ms/step - loss: 0.7216 - acc: 0.7340 - val_loss: 0.7184 - val_acc: 0.7583\n",
            "Epoch 18/25\n",
            "104/105 [============================>.] - ETA: 0s - loss: 0.7000 - acc: 0.7421Epoch 1/25\n",
            "105/105 [==============================] - 26s 248ms/step - loss: 0.6968 - acc: 0.7427 - val_loss: 0.6920 - val_acc: 0.8083\n",
            "Epoch 19/25\n",
            "104/105 [============================>.] - ETA: 0s - loss: 0.6916 - acc: 0.7424Epoch 1/25\n",
            "105/105 [==============================] - 26s 246ms/step - loss: 0.6916 - acc: 0.7421 - val_loss: 1.1231 - val_acc: 0.7083\n",
            "Epoch 20/25\n",
            "104/105 [============================>.] - ETA: 0s - loss: 0.6814 - acc: 0.7381Epoch 1/25\n",
            "105/105 [==============================] - 26s 247ms/step - loss: 0.6809 - acc: 0.7382 - val_loss: 0.6135 - val_acc: 0.8083\n",
            "Epoch 21/25\n",
            "104/105 [============================>.] - ETA: 0s - loss: 0.7032 - acc: 0.7411Epoch 1/25\n",
            "105/105 [==============================] - 27s 253ms/step - loss: 0.7038 - acc: 0.7406 - val_loss: 1.0406 - val_acc: 0.7250\n",
            "Epoch 22/25\n",
            "104/105 [============================>.] - ETA: 0s - loss: 0.7020 - acc: 0.7448Epoch 1/25\n",
            "105/105 [==============================] - 26s 251ms/step - loss: 0.7042 - acc: 0.7442 - val_loss: 0.6278 - val_acc: 0.7917\n",
            "Epoch 23/25\n",
            "104/105 [============================>.] - ETA: 0s - loss: 0.6663 - acc: 0.7505Epoch 1/25\n",
            "105/105 [==============================] - 26s 252ms/step - loss: 0.6690 - acc: 0.7499 - val_loss: 1.1243 - val_acc: 0.6583\n",
            "Epoch 24/25\n",
            "104/105 [============================>.] - ETA: 0s - loss: 0.6622 - acc: 0.7523Epoch 1/25\n",
            "105/105 [==============================] - 26s 251ms/step - loss: 0.6604 - acc: 0.7532 - val_loss: 0.6593 - val_acc: 0.8500\n",
            "Epoch 25/25\n",
            "104/105 [============================>.] - ETA: 0s - loss: 0.6537 - acc: 0.7563Epoch 1/25\n",
            "105/105 [==============================] - 26s 249ms/step - loss: 0.6546 - acc: 0.7562 - val_loss: 0.8457 - val_acc: 0.7833\n",
            "model saved\n"
          ],
          "name": "stdout"
        }
      ]
    },
    {
      "cell_type": "code",
      "metadata": {
        "id": "jGzNfyLq3PEy",
        "colab_type": "code",
        "colab": {
          "base_uri": "https://localhost:8080/",
          "height": 298
        },
        "outputId": "623831bc-6c9a-4665-b2f5-0e20ba6a837e"
      },
      "source": [
        "acc = history.history['acc']\n",
        "val_acc = history.history['val_acc']\n",
        "loss = history.history['loss']\n",
        "val_loss = history.history['val_loss']\n",
        "\n",
        "epochs = range(len(acc))\n",
        "\n",
        "plt.plot(epochs, acc, 'r', label='Training accuracy')\n",
        "plt.plot(epochs, val_acc, 'b', label='Validation accuracy')\n",
        "plt.title('Training and validation accuracy')\n",
        "plt.legend(loc=0)\n",
        "plt.figure()\n",
        "\n",
        "\n",
        "plt.show()"
      ],
      "execution_count": 10,
      "outputs": [
        {
          "output_type": "display_data",
          "data": {
            "image/png": "[encoded data removed]",
            "text/plain": [
              "<Figure size 432x288 with 1 Axes>"
            ]
          },
          "metadata": {
            "tags": []
          }
        },
        {
          "output_type": "display_data",
          "data": {
            "text/plain": [
              "<Figure size 432x288 with 0 Axes>"
            ]
          },
          "metadata": {
            "tags": []
          }
        }
      ]
    }
  ]
}